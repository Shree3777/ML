{
  "nbformat": 4,
  "nbformat_minor": 0,
  "metadata": {
    "colab": {
      "provenance": [],
      "authorship_tag": "ABX9TyMpW3FVDO2AdB+/mlZxCTAh",
      "include_colab_link": true
    },
    "kernelspec": {
      "name": "python3",
      "display_name": "Python 3"
    },
    "language_info": {
      "name": "python"
    }
  },
  "cells": [
    {
      "cell_type": "markdown",
      "metadata": {
        "id": "view-in-github",
        "colab_type": "text"
      },
      "source": [
        "<a href=\"https://colab.research.google.com/github/Shree3777/ML/blob/main/BubbleSort.ipynb\" target=\"_parent\"><img src=\"https://colab.research.google.com/assets/colab-badge.svg\" alt=\"Open In Colab\"/></a>"
      ]
    },
    {
      "cell_type": "code",
      "execution_count": null,
      "metadata": {
        "colab": {
          "base_uri": "https://localhost:8080/"
        },
        "id": "G7C9sDGfM0fF",
        "outputId": "de264768-2eb4-449a-a088-92c277a54569"
      },
      "outputs": [
        {
          "output_type": "stream",
          "name": "stdout",
          "text": [
            "sort array is:\n",
            " 11  12  22  25  34  64  90 "
          ]
        }
      ],
      "source": [
        "# Python program for implementation of Bubble Sort\n",
        "\n",
        "def Sort(arr):\n",
        "\tn = len(arr)\n",
        "\tflag = False\n",
        "\tfor i in range(n-1):\n",
        "\t\tfor j in range(0, n-i-1):\n",
        "\t\t\tif arr[j] > arr[j + 1]:\n",
        "\t\t\t\tflag = True\n",
        "\t\t\t\tarr[j], arr[j + 1] = arr[j + 1], arr[j]\n",
        "\t\t\n",
        "\t\tif not flag:\n",
        "\t\t\treturn\n",
        "      \n",
        "arr = [64, 34, 25, 12, 22, 11, 90]\n",
        "\n",
        "Sort(arr)\n",
        "\n",
        "print(\"sort array is:\")\n",
        "for i in range(len(arr)):\n",
        "\tprint(\"% d\" % arr[i], end=\" \")\n"
      ]
    }
  ]
}